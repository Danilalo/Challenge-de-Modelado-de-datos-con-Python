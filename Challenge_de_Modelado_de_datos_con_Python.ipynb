{
  "nbformat": 4,
  "nbformat_minor": 0,
  "metadata": {
    "colab": {
      "provenance": [],
      "include_colab_link": true
    },
    "kernelspec": {
      "name": "python3",
      "display_name": "Python 3"
    },
    "language_info": {
      "name": "python"
    }
  },
  "cells": [
    {
      "cell_type": "markdown",
      "metadata": {
        "id": "view-in-github",
        "colab_type": "text"
      },
      "source": [
        "<a href=\"https://colab.research.google.com/github/Danilalo/Challenge-de-Modelado-de-datos-con-Python/blob/main/Challenge_de_Modelado_de_datos_con_Python.ipynb\" target=\"_parent\"><img src=\"https://colab.research.google.com/assets/colab-badge.svg\" alt=\"Open In Colab\"/></a>"
      ]
    },
    {
      "cell_type": "markdown",
      "source": [
        "### Importación de datos\n",
        "\n"
      ],
      "metadata": {
        "id": "RhEdWd9YUR6H"
      }
    },
    {
      "cell_type": "code",
      "execution_count": 10,
      "metadata": {
        "colab": {
          "base_uri": "https://localhost:8080/",
          "height": 363
        },
        "id": "T3EvaeQ_INIL",
        "outputId": "6145f71c-4e7d-404e-9c73-05cbd5f05de4"
      },
      "outputs": [
        {
          "output_type": "execute_result",
          "data": {
            "text/plain": [
              "                    Producto Categoría del Producto     Precio  \\\n",
              "0          Asistente virtual           Electrónicos   164300.0   \n",
              "1            Mesa de comedor                Muebles   192300.0   \n",
              "2              Juego de mesa               Juguetes   209600.0   \n",
              "3                 Microondas      Electrodomésticos   757500.0   \n",
              "4           Silla de oficina                Muebles   335200.0   \n",
              "5    Bloques de construcción               Juguetes    24200.0   \n",
              "6                Muñeca bebé               Juguetes    44200.0   \n",
              "7               Lavavajillas      Electrodomésticos  1189700.0   \n",
              "8           Lavadora de ropa      Electrodomésticos  1518200.0   \n",
              "9  Carrito de control remoto               Juguetes    75200.0   \n",
              "\n",
              "   Costo de envío Fecha de Compra         Vendedor Lugar de Compra  \\\n",
              "0          6900.0      16/01/2021      Pedro Gomez          Bogotá   \n",
              "1          8400.0      18/05/2022  Beatriz Morales        Medellín   \n",
              "2         15900.0      15/03/2021   Juan Fernandez       Cartagena   \n",
              "3         41000.0      03/05/2022   Juan Fernandez            Cali   \n",
              "4         20200.0      07/11/2020    Maria Alfonso        Medellín   \n",
              "5             0.0      03/12/2020  Beatriz Morales            Cali   \n",
              "6             0.0      07/08/2021   Juan Fernandez          Bogotá   \n",
              "7         63700.0      18/06/2021    Felipe Santos     Santa Marta   \n",
              "8         79000.0      08/01/2022  Izabela de León          Bogotá   \n",
              "9          5100.0      24/02/2020  Beatriz Morales          Bogotá   \n",
              "\n",
              "   Calificación      Método de pago  Cantidad de cuotas       lat       lon  \n",
              "0             4  Tarjeta de crédito                   8   4.60971 -74.08175  \n",
              "1             1  Tarjeta de crédito                   4   6.25184 -75.56359  \n",
              "2             1  Tarjeta de crédito                   1  10.39972 -75.51444  \n",
              "3             4               Nequi                   1   3.43722 -76.52250  \n",
              "4             5               Nequi                   1   6.25184 -75.56359  \n",
              "5             5               Cupón                   1   3.43722 -76.52250  \n",
              "6             3               Nequi                   1   4.60971 -74.08175  \n",
              "7             5  Tarjeta de crédito                  10  11.24079 -74.19904  \n",
              "8             1  Tarjeta de crédito                   5   4.60971 -74.08175  \n",
              "9             5               Nequi                   1   4.60971 -74.08175  "
            ],
            "text/html": [
              "\n",
              "  <div id=\"df-5770aeeb-f68e-411c-8b6a-b3264fcdb63e\" class=\"colab-df-container\">\n",
              "    <div>\n",
              "<style scoped>\n",
              "    .dataframe tbody tr th:only-of-type {\n",
              "        vertical-align: middle;\n",
              "    }\n",
              "\n",
              "    .dataframe tbody tr th {\n",
              "        vertical-align: top;\n",
              "    }\n",
              "\n",
              "    .dataframe thead th {\n",
              "        text-align: right;\n",
              "    }\n",
              "</style>\n",
              "<table border=\"1\" class=\"dataframe\">\n",
              "  <thead>\n",
              "    <tr style=\"text-align: right;\">\n",
              "      <th></th>\n",
              "      <th>Producto</th>\n",
              "      <th>Categoría del Producto</th>\n",
              "      <th>Precio</th>\n",
              "      <th>Costo de envío</th>\n",
              "      <th>Fecha de Compra</th>\n",
              "      <th>Vendedor</th>\n",
              "      <th>Lugar de Compra</th>\n",
              "      <th>Calificación</th>\n",
              "      <th>Método de pago</th>\n",
              "      <th>Cantidad de cuotas</th>\n",
              "      <th>lat</th>\n",
              "      <th>lon</th>\n",
              "    </tr>\n",
              "  </thead>\n",
              "  <tbody>\n",
              "    <tr>\n",
              "      <th>0</th>\n",
              "      <td>Asistente virtual</td>\n",
              "      <td>Electrónicos</td>\n",
              "      <td>164300.0</td>\n",
              "      <td>6900.0</td>\n",
              "      <td>16/01/2021</td>\n",
              "      <td>Pedro Gomez</td>\n",
              "      <td>Bogotá</td>\n",
              "      <td>4</td>\n",
              "      <td>Tarjeta de crédito</td>\n",
              "      <td>8</td>\n",
              "      <td>4.60971</td>\n",
              "      <td>-74.08175</td>\n",
              "    </tr>\n",
              "    <tr>\n",
              "      <th>1</th>\n",
              "      <td>Mesa de comedor</td>\n",
              "      <td>Muebles</td>\n",
              "      <td>192300.0</td>\n",
              "      <td>8400.0</td>\n",
              "      <td>18/05/2022</td>\n",
              "      <td>Beatriz Morales</td>\n",
              "      <td>Medellín</td>\n",
              "      <td>1</td>\n",
              "      <td>Tarjeta de crédito</td>\n",
              "      <td>4</td>\n",
              "      <td>6.25184</td>\n",
              "      <td>-75.56359</td>\n",
              "    </tr>\n",
              "    <tr>\n",
              "      <th>2</th>\n",
              "      <td>Juego de mesa</td>\n",
              "      <td>Juguetes</td>\n",
              "      <td>209600.0</td>\n",
              "      <td>15900.0</td>\n",
              "      <td>15/03/2021</td>\n",
              "      <td>Juan Fernandez</td>\n",
              "      <td>Cartagena</td>\n",
              "      <td>1</td>\n",
              "      <td>Tarjeta de crédito</td>\n",
              "      <td>1</td>\n",
              "      <td>10.39972</td>\n",
              "      <td>-75.51444</td>\n",
              "    </tr>\n",
              "    <tr>\n",
              "      <th>3</th>\n",
              "      <td>Microondas</td>\n",
              "      <td>Electrodomésticos</td>\n",
              "      <td>757500.0</td>\n",
              "      <td>41000.0</td>\n",
              "      <td>03/05/2022</td>\n",
              "      <td>Juan Fernandez</td>\n",
              "      <td>Cali</td>\n",
              "      <td>4</td>\n",
              "      <td>Nequi</td>\n",
              "      <td>1</td>\n",
              "      <td>3.43722</td>\n",
              "      <td>-76.52250</td>\n",
              "    </tr>\n",
              "    <tr>\n",
              "      <th>4</th>\n",
              "      <td>Silla de oficina</td>\n",
              "      <td>Muebles</td>\n",
              "      <td>335200.0</td>\n",
              "      <td>20200.0</td>\n",
              "      <td>07/11/2020</td>\n",
              "      <td>Maria Alfonso</td>\n",
              "      <td>Medellín</td>\n",
              "      <td>5</td>\n",
              "      <td>Nequi</td>\n",
              "      <td>1</td>\n",
              "      <td>6.25184</td>\n",
              "      <td>-75.56359</td>\n",
              "    </tr>\n",
              "    <tr>\n",
              "      <th>5</th>\n",
              "      <td>Bloques de construcción</td>\n",
              "      <td>Juguetes</td>\n",
              "      <td>24200.0</td>\n",
              "      <td>0.0</td>\n",
              "      <td>03/12/2020</td>\n",
              "      <td>Beatriz Morales</td>\n",
              "      <td>Cali</td>\n",
              "      <td>5</td>\n",
              "      <td>Cupón</td>\n",
              "      <td>1</td>\n",
              "      <td>3.43722</td>\n",
              "      <td>-76.52250</td>\n",
              "    </tr>\n",
              "    <tr>\n",
              "      <th>6</th>\n",
              "      <td>Muñeca bebé</td>\n",
              "      <td>Juguetes</td>\n",
              "      <td>44200.0</td>\n",
              "      <td>0.0</td>\n",
              "      <td>07/08/2021</td>\n",
              "      <td>Juan Fernandez</td>\n",
              "      <td>Bogotá</td>\n",
              "      <td>3</td>\n",
              "      <td>Nequi</td>\n",
              "      <td>1</td>\n",
              "      <td>4.60971</td>\n",
              "      <td>-74.08175</td>\n",
              "    </tr>\n",
              "    <tr>\n",
              "      <th>7</th>\n",
              "      <td>Lavavajillas</td>\n",
              "      <td>Electrodomésticos</td>\n",
              "      <td>1189700.0</td>\n",
              "      <td>63700.0</td>\n",
              "      <td>18/06/2021</td>\n",
              "      <td>Felipe Santos</td>\n",
              "      <td>Santa Marta</td>\n",
              "      <td>5</td>\n",
              "      <td>Tarjeta de crédito</td>\n",
              "      <td>10</td>\n",
              "      <td>11.24079</td>\n",
              "      <td>-74.19904</td>\n",
              "    </tr>\n",
              "    <tr>\n",
              "      <th>8</th>\n",
              "      <td>Lavadora de ropa</td>\n",
              "      <td>Electrodomésticos</td>\n",
              "      <td>1518200.0</td>\n",
              "      <td>79000.0</td>\n",
              "      <td>08/01/2022</td>\n",
              "      <td>Izabela de León</td>\n",
              "      <td>Bogotá</td>\n",
              "      <td>1</td>\n",
              "      <td>Tarjeta de crédito</td>\n",
              "      <td>5</td>\n",
              "      <td>4.60971</td>\n",
              "      <td>-74.08175</td>\n",
              "    </tr>\n",
              "    <tr>\n",
              "      <th>9</th>\n",
              "      <td>Carrito de control remoto</td>\n",
              "      <td>Juguetes</td>\n",
              "      <td>75200.0</td>\n",
              "      <td>5100.0</td>\n",
              "      <td>24/02/2020</td>\n",
              "      <td>Beatriz Morales</td>\n",
              "      <td>Bogotá</td>\n",
              "      <td>5</td>\n",
              "      <td>Nequi</td>\n",
              "      <td>1</td>\n",
              "      <td>4.60971</td>\n",
              "      <td>-74.08175</td>\n",
              "    </tr>\n",
              "  </tbody>\n",
              "</table>\n",
              "</div>\n",
              "    <div class=\"colab-df-buttons\">\n",
              "\n",
              "  <div class=\"colab-df-container\">\n",
              "    <button class=\"colab-df-convert\" onclick=\"convertToInteractive('df-5770aeeb-f68e-411c-8b6a-b3264fcdb63e')\"\n",
              "            title=\"Convert this dataframe to an interactive table.\"\n",
              "            style=\"display:none;\">\n",
              "\n",
              "  <svg xmlns=\"http://www.w3.org/2000/svg\" height=\"24px\" viewBox=\"0 -960 960 960\">\n",
              "    <path d=\"M120-120v-720h720v720H120Zm60-500h600v-160H180v160Zm220 220h160v-160H400v160Zm0 220h160v-160H400v160ZM180-400h160v-160H180v160Zm440 0h160v-160H620v160ZM180-180h160v-160H180v160Zm440 0h160v-160H620v160Z\"/>\n",
              "  </svg>\n",
              "    </button>\n",
              "\n",
              "  <style>\n",
              "    .colab-df-container {\n",
              "      display:flex;\n",
              "      gap: 12px;\n",
              "    }\n",
              "\n",
              "    .colab-df-convert {\n",
              "      background-color: #E8F0FE;\n",
              "      border: none;\n",
              "      border-radius: 50%;\n",
              "      cursor: pointer;\n",
              "      display: none;\n",
              "      fill: #1967D2;\n",
              "      height: 32px;\n",
              "      padding: 0 0 0 0;\n",
              "      width: 32px;\n",
              "    }\n",
              "\n",
              "    .colab-df-convert:hover {\n",
              "      background-color: #E2EBFA;\n",
              "      box-shadow: 0px 1px 2px rgba(60, 64, 67, 0.3), 0px 1px 3px 1px rgba(60, 64, 67, 0.15);\n",
              "      fill: #174EA6;\n",
              "    }\n",
              "\n",
              "    .colab-df-buttons div {\n",
              "      margin-bottom: 4px;\n",
              "    }\n",
              "\n",
              "    [theme=dark] .colab-df-convert {\n",
              "      background-color: #3B4455;\n",
              "      fill: #D2E3FC;\n",
              "    }\n",
              "\n",
              "    [theme=dark] .colab-df-convert:hover {\n",
              "      background-color: #434B5C;\n",
              "      box-shadow: 0px 1px 3px 1px rgba(0, 0, 0, 0.15);\n",
              "      filter: drop-shadow(0px 1px 2px rgba(0, 0, 0, 0.3));\n",
              "      fill: #FFFFFF;\n",
              "    }\n",
              "  </style>\n",
              "\n",
              "    <script>\n",
              "      const buttonEl =\n",
              "        document.querySelector('#df-5770aeeb-f68e-411c-8b6a-b3264fcdb63e button.colab-df-convert');\n",
              "      buttonEl.style.display =\n",
              "        google.colab.kernel.accessAllowed ? 'block' : 'none';\n",
              "\n",
              "      async function convertToInteractive(key) {\n",
              "        const element = document.querySelector('#df-5770aeeb-f68e-411c-8b6a-b3264fcdb63e');\n",
              "        const dataTable =\n",
              "          await google.colab.kernel.invokeFunction('convertToInteractive',\n",
              "                                                    [key], {});\n",
              "        if (!dataTable) return;\n",
              "\n",
              "        const docLinkHtml = 'Like what you see? Visit the ' +\n",
              "          '<a target=\"_blank\" href=https://colab.research.google.com/notebooks/data_table.ipynb>data table notebook</a>'\n",
              "          + ' to learn more about interactive tables.';\n",
              "        element.innerHTML = '';\n",
              "        dataTable['output_type'] = 'display_data';\n",
              "        await google.colab.output.renderOutput(dataTable, element);\n",
              "        const docLink = document.createElement('div');\n",
              "        docLink.innerHTML = docLinkHtml;\n",
              "        element.appendChild(docLink);\n",
              "      }\n",
              "    </script>\n",
              "  </div>\n",
              "\n",
              "\n",
              "    <div id=\"df-f19a3f6f-2009-41da-a554-17b939ad1c51\">\n",
              "      <button class=\"colab-df-quickchart\" onclick=\"quickchart('df-f19a3f6f-2009-41da-a554-17b939ad1c51')\"\n",
              "                title=\"Suggest charts\"\n",
              "                style=\"display:none;\">\n",
              "\n",
              "<svg xmlns=\"http://www.w3.org/2000/svg\" height=\"24px\"viewBox=\"0 0 24 24\"\n",
              "     width=\"24px\">\n",
              "    <g>\n",
              "        <path d=\"M19 3H5c-1.1 0-2 .9-2 2v14c0 1.1.9 2 2 2h14c1.1 0 2-.9 2-2V5c0-1.1-.9-2-2-2zM9 17H7v-7h2v7zm4 0h-2V7h2v10zm4 0h-2v-4h2v4z\"/>\n",
              "    </g>\n",
              "</svg>\n",
              "      </button>\n",
              "\n",
              "<style>\n",
              "  .colab-df-quickchart {\n",
              "      --bg-color: #E8F0FE;\n",
              "      --fill-color: #1967D2;\n",
              "      --hover-bg-color: #E2EBFA;\n",
              "      --hover-fill-color: #174EA6;\n",
              "      --disabled-fill-color: #AAA;\n",
              "      --disabled-bg-color: #DDD;\n",
              "  }\n",
              "\n",
              "  [theme=dark] .colab-df-quickchart {\n",
              "      --bg-color: #3B4455;\n",
              "      --fill-color: #D2E3FC;\n",
              "      --hover-bg-color: #434B5C;\n",
              "      --hover-fill-color: #FFFFFF;\n",
              "      --disabled-bg-color: #3B4455;\n",
              "      --disabled-fill-color: #666;\n",
              "  }\n",
              "\n",
              "  .colab-df-quickchart {\n",
              "    background-color: var(--bg-color);\n",
              "    border: none;\n",
              "    border-radius: 50%;\n",
              "    cursor: pointer;\n",
              "    display: none;\n",
              "    fill: var(--fill-color);\n",
              "    height: 32px;\n",
              "    padding: 0;\n",
              "    width: 32px;\n",
              "  }\n",
              "\n",
              "  .colab-df-quickchart:hover {\n",
              "    background-color: var(--hover-bg-color);\n",
              "    box-shadow: 0 1px 2px rgba(60, 64, 67, 0.3), 0 1px 3px 1px rgba(60, 64, 67, 0.15);\n",
              "    fill: var(--button-hover-fill-color);\n",
              "  }\n",
              "\n",
              "  .colab-df-quickchart-complete:disabled,\n",
              "  .colab-df-quickchart-complete:disabled:hover {\n",
              "    background-color: var(--disabled-bg-color);\n",
              "    fill: var(--disabled-fill-color);\n",
              "    box-shadow: none;\n",
              "  }\n",
              "\n",
              "  .colab-df-spinner {\n",
              "    border: 2px solid var(--fill-color);\n",
              "    border-color: transparent;\n",
              "    border-bottom-color: var(--fill-color);\n",
              "    animation:\n",
              "      spin 1s steps(1) infinite;\n",
              "  }\n",
              "\n",
              "  @keyframes spin {\n",
              "    0% {\n",
              "      border-color: transparent;\n",
              "      border-bottom-color: var(--fill-color);\n",
              "      border-left-color: var(--fill-color);\n",
              "    }\n",
              "    20% {\n",
              "      border-color: transparent;\n",
              "      border-left-color: var(--fill-color);\n",
              "      border-top-color: var(--fill-color);\n",
              "    }\n",
              "    30% {\n",
              "      border-color: transparent;\n",
              "      border-left-color: var(--fill-color);\n",
              "      border-top-color: var(--fill-color);\n",
              "      border-right-color: var(--fill-color);\n",
              "    }\n",
              "    40% {\n",
              "      border-color: transparent;\n",
              "      border-right-color: var(--fill-color);\n",
              "      border-top-color: var(--fill-color);\n",
              "    }\n",
              "    60% {\n",
              "      border-color: transparent;\n",
              "      border-right-color: var(--fill-color);\n",
              "    }\n",
              "    80% {\n",
              "      border-color: transparent;\n",
              "      border-right-color: var(--fill-color);\n",
              "      border-bottom-color: var(--fill-color);\n",
              "    }\n",
              "    90% {\n",
              "      border-color: transparent;\n",
              "      border-bottom-color: var(--fill-color);\n",
              "    }\n",
              "  }\n",
              "</style>\n",
              "\n",
              "      <script>\n",
              "        async function quickchart(key) {\n",
              "          const quickchartButtonEl =\n",
              "            document.querySelector('#' + key + ' button');\n",
              "          quickchartButtonEl.disabled = true;  // To prevent multiple clicks.\n",
              "          quickchartButtonEl.classList.add('colab-df-spinner');\n",
              "          try {\n",
              "            const charts = await google.colab.kernel.invokeFunction(\n",
              "                'suggestCharts', [key], {});\n",
              "          } catch (error) {\n",
              "            console.error('Error during call to suggestCharts:', error);\n",
              "          }\n",
              "          quickchartButtonEl.classList.remove('colab-df-spinner');\n",
              "          quickchartButtonEl.classList.add('colab-df-quickchart-complete');\n",
              "        }\n",
              "        (() => {\n",
              "          let quickchartButtonEl =\n",
              "            document.querySelector('#df-f19a3f6f-2009-41da-a554-17b939ad1c51 button');\n",
              "          quickchartButtonEl.style.display =\n",
              "            google.colab.kernel.accessAllowed ? 'block' : 'none';\n",
              "        })();\n",
              "      </script>\n",
              "    </div>\n",
              "\n",
              "    </div>\n",
              "  </div>\n"
            ],
            "application/vnd.google.colaboratory.intrinsic+json": {
              "type": "dataframe",
              "variable_name": "tienda",
              "summary": "{\n  \"name\": \"tienda\",\n  \"rows\": 2359,\n  \"fields\": [\n    {\n      \"column\": \"Producto\",\n      \"properties\": {\n        \"dtype\": \"category\",\n        \"num_unique_values\": 51,\n        \"samples\": [\n          \"Guitarra ac\\u00fastica\",\n          \"Bal\\u00f3n de baloncesto\",\n          \"Smartwatch\"\n        ],\n        \"semantic_type\": \"\",\n        \"description\": \"\"\n      }\n    },\n    {\n      \"column\": \"Categor\\u00eda del Producto\",\n      \"properties\": {\n        \"dtype\": \"category\",\n        \"num_unique_values\": 8,\n        \"samples\": [\n          \"Muebles\",\n          \"Deportes y diversi\\u00f3n\",\n          \"Electr\\u00f3nicos\"\n        ],\n        \"semantic_type\": \"\",\n        \"description\": \"\"\n      }\n    },\n    {\n      \"column\": \"Precio\",\n      \"properties\": {\n        \"dtype\": \"number\",\n        \"std\": 614686.7653873172,\n        \"min\": 7600.0,\n        \"max\": 2977000.0,\n        \"num_unique_values\": 1937,\n        \"samples\": [\n          2499400.0,\n          14800.0,\n          80500.0\n        ],\n        \"semantic_type\": \"\",\n        \"description\": \"\"\n      }\n    },\n    {\n      \"column\": \"Costo de env\\u00edo\",\n      \"properties\": {\n        \"dtype\": \"number\",\n        \"std\": 32860.0017825605,\n        \"min\": 0.0,\n        \"max\": 160800.0,\n        \"num_unique_values\": 753,\n        \"samples\": [\n          117800.0,\n          54700.0,\n          45600.0\n        ],\n        \"semantic_type\": \"\",\n        \"description\": \"\"\n      }\n    },\n    {\n      \"column\": \"Fecha de Compra\",\n      \"properties\": {\n        \"dtype\": \"object\",\n        \"num_unique_values\": 1018,\n        \"samples\": [\n          \"15/09/2022\",\n          \"03/06/2020\",\n          \"06/11/2021\"\n        ],\n        \"semantic_type\": \"\",\n        \"description\": \"\"\n      }\n    },\n    {\n      \"column\": \"Vendedor\",\n      \"properties\": {\n        \"dtype\": \"category\",\n        \"num_unique_values\": 14,\n        \"samples\": [\n          \"Juliana Costa\",\n          \"Mariana Herrera\",\n          \"Pedro Gomez\"\n        ],\n        \"semantic_type\": \"\",\n        \"description\": \"\"\n      }\n    },\n    {\n      \"column\": \"Lugar de Compra\",\n      \"properties\": {\n        \"dtype\": \"category\",\n        \"num_unique_values\": 19,\n        \"samples\": [\n          \"Bogot\\u00e1\",\n          \"Pereira\",\n          \"Neiva\"\n        ],\n        \"semantic_type\": \"\",\n        \"description\": \"\"\n      }\n    },\n    {\n      \"column\": \"Calificaci\\u00f3n\",\n      \"properties\": {\n        \"dtype\": \"number\",\n        \"std\": 1,\n        \"min\": 1,\n        \"max\": 5,\n        \"num_unique_values\": 5,\n        \"samples\": [\n          1,\n          2,\n          5\n        ],\n        \"semantic_type\": \"\",\n        \"description\": \"\"\n      }\n    },\n    {\n      \"column\": \"M\\u00e9todo de pago\",\n      \"properties\": {\n        \"dtype\": \"category\",\n        \"num_unique_values\": 4,\n        \"samples\": [\n          \"Nequi\",\n          \"Tarjeta de d\\u00e9bito\",\n          \"Tarjeta de cr\\u00e9dito\"\n        ],\n        \"semantic_type\": \"\",\n        \"description\": \"\"\n      }\n    },\n    {\n      \"column\": \"Cantidad de cuotas\",\n      \"properties\": {\n        \"dtype\": \"number\",\n        \"std\": 2,\n        \"min\": 1,\n        \"max\": 24,\n        \"num_unique_values\": 15,\n        \"samples\": [\n          7,\n          14,\n          8\n        ],\n        \"semantic_type\": \"\",\n        \"description\": \"\"\n      }\n    },\n    {\n      \"column\": \"lat\",\n      \"properties\": {\n        \"dtype\": \"number\",\n        \"std\": 2.2874452492678627,\n        \"min\": -4.21528,\n        \"max\": 11.54444,\n        \"num_unique_values\": 19,\n        \"samples\": [\n          4.60971,\n          4.81333,\n          2.9273\n        ],\n        \"semantic_type\": \"\",\n        \"description\": \"\"\n      }\n    },\n    {\n      \"column\": \"lon\",\n      \"properties\": {\n        \"dtype\": \"number\",\n        \"std\": 1.2178272727088486,\n        \"min\": -77.28111,\n        \"max\": -67.9239,\n        \"num_unique_values\": 19,\n        \"samples\": [\n          -74.08175,\n          -75.69611,\n          -75.28189\n        ],\n        \"semantic_type\": \"\",\n        \"description\": \"\"\n      }\n    }\n  ]\n}"
            }
          },
          "metadata": {},
          "execution_count": 10
        }
      ],
      "source": [
        "import pandas as pd\n",
        "\n",
        "url = \"https://raw.githubusercontent.com/alura-es-cursos/challenge1-data-science-latam/refs/heads/main/base-de-datos-challenge1-latam/tienda_1%20.csv\"\n",
        "url2 = \"https://raw.githubusercontent.com/alura-es-cursos/challenge1-data-science-latam/refs/heads/main/base-de-datos-challenge1-latam/tienda_2.csv\"\n",
        "url3 = \"https://raw.githubusercontent.com/alura-es-cursos/challenge1-data-science-latam/refs/heads/main/base-de-datos-challenge1-latam/tienda_3.csv\"\n",
        "url4 = \"https://raw.githubusercontent.com/alura-es-cursos/challenge1-data-science-latam/refs/heads/main/base-de-datos-challenge1-latam/tienda_4.csv\"\n",
        "\n",
        "tienda = pd.read_csv(url)\n",
        "tienda2 = pd.read_csv(url2)\n",
        "tienda3 = pd.read_csv(url3)\n",
        "tienda4 = pd.read_csv(url4)\n",
        "\n",
        "tienda.head(10) # Return the first n rows.This function returns the first n rows for the object based on position. It is useful for quickly testing if your object has the right type of data in it.\n"
      ]
    },
    {
      "cell_type": "markdown",
      "source": [
        "#1. Análisis de facturación\n",
        "\n"
      ],
      "metadata": {
        "id": "X62IW3KFUIYm"
      }
    },
    {
      "cell_type": "code",
      "source": [
        "print(tienda.shape)\n",
        "print(tienda2.shape)\n",
        "print(tienda3.shape)\n",
        "print(tienda4.shape)"
      ],
      "metadata": {
        "id": "xykobSftV64I",
        "colab": {
          "base_uri": "https://localhost:8080/"
        },
        "outputId": "daf134ee-be3c-4d0d-f8ec-f26d823bd478"
      },
      "execution_count": 3,
      "outputs": [
        {
          "output_type": "stream",
          "name": "stdout",
          "text": [
            "(2359, 12)\n",
            "(2359, 12)\n",
            "(2359, 12)\n",
            "(2358, 12)\n"
          ]
        }
      ]
    },
    {
      "cell_type": "code",
      "source": [
        "ingresos_tienda1 = tienda['Precio'].sum()\n",
        "ingresos_tienda2 = tienda2['Precio'].sum()\n",
        "ingresos_tienda3 = tienda3['Precio'].sum()\n",
        "ingresos_tienda4 = tienda4['Precio'].sum()\n",
        "\n",
        "print(f\"Ingresos estimados Tienda 1: {ingresos_tienda1}\")\n",
        "print(f\"Ingresos estimados Tienda 2: {ingresos_tienda2}\")\n",
        "print(f\"Ingresos estimados Tienda 3: {ingresos_tienda3}\")\n",
        "print(f\"Ingresos estimados Tienda 4: {ingresos_tienda4}\")"
      ],
      "metadata": {
        "id": "KDyr8E71V3m-",
        "colab": {
          "base_uri": "https://localhost:8080/"
        },
        "outputId": "1cd2fb03-555a-4d56-c477-233e439f8267"
      },
      "execution_count": 16,
      "outputs": [
        {
          "output_type": "stream",
          "name": "stdout",
          "text": [
            "Ingresos estimados Tienda 1: 1150880400.0\n",
            "Ingresos estimados Tienda 2: 1116343500.0\n",
            "Ingresos estimados Tienda 3: 1098019600.0\n",
            "Ingresos estimados Tienda 4: 1038375700.0\n"
          ]
        }
      ]
    },
    {
      "cell_type": "markdown",
      "source": [
        "# 2. Ventas por categoría"
      ],
      "metadata": {
        "id": "2V_vcAPzWZmR"
      }
    },
    {
      "cell_type": "code",
      "source": [
        "# Creando una lista de listas con valores repetidos de cada estado\n",
        "\n",
        " # Tienda 1\n",
        "Categorias_unicas = list(set(tienda['Categoría del Producto'])) # set ayda a hacer la comparacion de que no se repitan\n",
        "\n",
        "lista_de_listas = []\n",
        "for estado in Categorias_unicas: # Va a tomar cada categoria unica y los va a organiar en el lista (Separar)\n",
        "    lista = [e for e in tienda['Categoría del Producto'] if e == estado]\n",
        "    lista_de_listas.append(lista) #Se agrupan en una lista de listas\n",
        "\n",
        "conteo_valores = {Categorias_unicas[i]: len(lista_de_listas[i]) for i in range(len(Categorias_unicas))} # Hace un conteo de cada catrgoria\n",
        "print(f\"La cantidad por categoria de la tienda 1 es de: {conteo_valores}\")\n",
        "\n",
        "\n",
        " # Tienda 2\n",
        "Categorias_unicas = list(set(tienda2['Categoría del Producto'])) # set ayda a hacer la comparacion de que no se repitan\n",
        "\n",
        "lista_de_listas = []\n",
        "for estado in Categorias_unicas: # Va a tomar cada categoria unica y los va a organiar en el lista (Separar)\n",
        "    lista = [e for e in tienda2['Categoría del Producto'] if e == estado]\n",
        "    lista_de_listas.append(lista) #Se agrupan en una lista de listas\n",
        "\n",
        "conteo_valores2 = {Categorias_unicas[i]: len(lista_de_listas[i]) for i in range(len(Categorias_unicas))} # Hace un conteo de cada catrgoria\n",
        "print(f\"La cantidad por categoria de la tienda 2 es de: {conteo_valores2}\")\n",
        "\n",
        "\n",
        " # Tienda 3\n",
        "Categorias_unicas = list(set(tienda3['Categoría del Producto'])) # set ayda a hacer la comparacion de que no se repitan\n",
        "\n",
        "lista_de_listas = []\n",
        "for estado in Categorias_unicas: # Va a tomar cada categoria unica y los va a organiar en el lista (Separar)\n",
        "    lista = [e for e in tienda3['Categoría del Producto'] if e == estado]\n",
        "    lista_de_listas.append(lista) #Se agrupan en una lista de listas\n",
        "\n",
        "conteo_valores3 = {Categorias_unicas[i]: len(lista_de_listas[i]) for i in range(len(Categorias_unicas))} # Hace un conteo de cada catrgoria\n",
        "print(f\"La cantidad por categoria de la tienda 3 es de: {conteo_valores3}\")\n",
        "\n",
        "\n",
        " # Tienda 4\n",
        "Categorias_unicas = list(set(tienda3['Categoría del Producto'])) # set ayda a hacer la comparacion de que no se repitan\n",
        "\n",
        "lista_de_listas = []\n",
        "for estado in Categorias_unicas: # Va a tomar cada categoria unica y los va a organiar en el lista (Separar)\n",
        "    lista = [e for e in tienda4['Categoría del Producto'] if e == estado]\n",
        "    lista_de_listas.append(lista) #Se agrupan en una lista de listas\n",
        "\n",
        "conteo_valores4 = {Categorias_unicas[i]: len(lista_de_listas[i]) for i in range(len(Categorias_unicas))} # Hace un conteo de cada catrgoria\n",
        "print(f\"La cantidad por categoria de la tienda 4 es de: {conteo_valores4}\")\n",
        "\n"
      ],
      "metadata": {
        "id": "A34YupIuYhfF",
        "colab": {
          "base_uri": "https://localhost:8080/"
        },
        "outputId": "8441a219-5e98-44c8-af9b-3b9e0057b998"
      },
      "execution_count": 25,
      "outputs": [
        {
          "output_type": "stream",
          "name": "stdout",
          "text": [
            "La cantidad por categoria de la tienda 1 es de: {'Electrónicos': 448, 'Muebles': 465, 'Libros': 173, 'Deportes y diversión': 284, 'Electrodomésticos': 312, 'Instrumentos musicales': 182, 'Juguetes': 324, 'Artículos para el hogar': 171}\n",
            "La cantidad por categoria de la tienda 2 es de: {'Electrónicos': 422, 'Muebles': 442, 'Libros': 197, 'Deportes y diversión': 275, 'Electrodomésticos': 305, 'Instrumentos musicales': 224, 'Juguetes': 313, 'Artículos para el hogar': 181}\n",
            "La cantidad por categoria de la tienda 3 es de: {'Electrónicos': 451, 'Muebles': 499, 'Libros': 185, 'Deportes y diversión': 277, 'Electrodomésticos': 278, 'Instrumentos musicales': 177, 'Juguetes': 315, 'Artículos para el hogar': 177}\n",
            "La cantidad por categoria de la tienda 4 es de: {'Electrónicos': 451, 'Muebles': 480, 'Libros': 187, 'Deportes y diversión': 277, 'Electrodomésticos': 254, 'Instrumentos musicales': 170, 'Juguetes': 338, 'Artículos para el hogar': 201}\n"
          ]
        }
      ]
    },
    {
      "cell_type": "code",
      "source": [],
      "metadata": {
        "id": "yZR6cOjXYSk1"
      },
      "execution_count": null,
      "outputs": []
    },
    {
      "cell_type": "markdown",
      "source": [
        "# 3. Calificación promedio de la tienda\n"
      ],
      "metadata": {
        "id": "Rq6tU_xSY3jk"
      }
    },
    {
      "cell_type": "code",
      "source": [
        "Prom_Calif_tienda1 = (tienda['Calificación'].sum())/len(tienda)\n",
        "Prom_Calif_tienda2 = (tienda2['Calificación'].sum())/len(tienda2)\n",
        "Prom_Calif_tienda3 = (tienda3['Calificación'].sum())/len(tienda3)\n",
        "Prom_Calif_tienda4 = (tienda4['Calificación'].sum())/len(tienda4)\n",
        "\n",
        "print(f\"Calificaciones promedio de los clientes Tienda 1: {Prom_Calif_tienda1}\")\n",
        "print(f\"Calificaciones promedio de los clientes Tienda 2: {Prom_Calif_tienda2}\")\n",
        "print(f\"Calificaciones promedio de los clientes Tienda 3: {Prom_Calif_tienda3}\")\n",
        "print(f\"Calificaciones promedio de los clientes Tienda 4: {Prom_Calif_tienda4}\")"
      ],
      "metadata": {
        "id": "bh3jjjJwY5MU",
        "colab": {
          "base_uri": "https://localhost:8080/"
        },
        "outputId": "d521724d-2909-4d70-ec54-760d81831030"
      },
      "execution_count": 34,
      "outputs": [
        {
          "output_type": "stream",
          "name": "stdout",
          "text": [
            "Calificaciones promedio de los clientes Tienda 1: 3.976685036032217\n",
            "Calificaciones promedio de los clientes Tienda 2: 4.037303942348453\n",
            "Calificaciones promedio de los clientes Tienda 3: 4.048325561678677\n",
            "Calificaciones promedio de los clientes Tienda 4: 3.9957591178965224\n"
          ]
        }
      ]
    },
    {
      "cell_type": "code",
      "source": [],
      "metadata": {
        "id": "I0KkjPoTY88F"
      },
      "execution_count": null,
      "outputs": []
    },
    {
      "cell_type": "markdown",
      "source": [
        "# 4. Productos más y menos vendidos"
      ],
      "metadata": {
        "id": "DmNp1KPBZCm-"
      }
    },
    {
      "cell_type": "code",
      "source": [
        "import matplotlib.pyplot as plt\n",
        "\n",
        "dic1 = conteo_valores\n",
        "dic2 = conteo_valores2\n",
        "dic3 = conteo_valores3\n",
        "dic4 = conteo_valores4\n",
        "\n",
        "diccionarios = [dic1, dic2, dic3, dic4]\n",
        "titulos = ['Ventas tienda 1', 'Ventas tienda 2', 'Ventas tienda 3', 'Ventas tienda 4']\n",
        "\n",
        "# Crear la figura y 4 subplots (2 filas, 2 columnas)\n",
        "fig, axs = plt.subplots(2, 2, figsize=(12, 8))\n",
        "\n",
        "# Aplanar el array de subplots para recorrerlo fácilmente\n",
        "axs = axs.flatten()\n",
        "\n",
        "for i, dic in enumerate(diccionarios):\n",
        "    nombres = list(dic.keys())\n",
        "    valores = list(dic.values())\n",
        "\n",
        "    axs[i].bar(nombres, valores, color='skyblue')\n",
        "    axs[i].set_title(titulos[i])\n",
        "    axs[i].set_xticklabels(nombres, rotation=45, ha='right')\n",
        "    axs[i].set_ylabel(\"Cantidad\")\n",
        "\n",
        "plt.tight_layout()\n",
        "plt.show()"
      ],
      "metadata": {
        "id": "qoyjqijQZHfF",
        "colab": {
          "base_uri": "https://localhost:8080/",
          "height": 946
        },
        "outputId": "5a1b595f-80e4-4b25-94d6-4317c0e13cd2"
      },
      "execution_count": 33,
      "outputs": [
        {
          "output_type": "stream",
          "name": "stderr",
          "text": [
            "<ipython-input-33-7beb45d64e8a>:23: UserWarning: set_ticklabels() should only be used with a fixed number of ticks, i.e. after set_ticks() or using a FixedLocator.\n",
            "  axs[i].set_xticklabels(nombres, rotation=45, ha='right')\n",
            "<ipython-input-33-7beb45d64e8a>:23: UserWarning: set_ticklabels() should only be used with a fixed number of ticks, i.e. after set_ticks() or using a FixedLocator.\n",
            "  axs[i].set_xticklabels(nombres, rotation=45, ha='right')\n",
            "<ipython-input-33-7beb45d64e8a>:23: UserWarning: set_ticklabels() should only be used with a fixed number of ticks, i.e. after set_ticks() or using a FixedLocator.\n",
            "  axs[i].set_xticklabels(nombres, rotation=45, ha='right')\n",
            "<ipython-input-33-7beb45d64e8a>:23: UserWarning: set_ticklabels() should only be used with a fixed number of ticks, i.e. after set_ticks() or using a FixedLocator.\n",
            "  axs[i].set_xticklabels(nombres, rotation=45, ha='right')\n"
          ]
        },
        {
          "output_type": "display_data",
          "data": {
            "text/plain": [
              "<Figure size 1200x800 with 4 Axes>"
            ],
            "image/png": "[encoded data removed]"
          },
          "metadata": {}
        }
      ]
    },
    {
      "cell_type": "code",
      "source": [],
      "metadata": {
        "id": "0Sw3sd4IZIGW"
      },
      "execution_count": null,
      "outputs": []
    },
    {
      "cell_type": "markdown",
      "source": [
        "# 5. Envío promedio por tienda"
      ],
      "metadata": {
        "id": "Fl0cGi3bZKqU"
      }
    },
    {
      "cell_type": "code",
      "source": [
        "Prom_Envio_tienda1 = (tienda['Costo de envío'].sum())/len(tienda)\n",
        "Prom_Envio_tienda2 = (tienda2['Costo de envío'].sum())/len(tienda2)\n",
        "Prom_Envio_tienda3 = (tienda3['Costo de envío'].sum())/len(tienda3)\n",
        "Prom_Envio_tienda4 = (tienda4['Costo de envío'].sum())/len(tienda4)\n",
        "\n",
        "print(f\"Costo de envío promedio de la Tienda 1: {Prom_Envio_tienda1}\")\n",
        "print(f\"Costo de envío promedio de la Tienda 2: {Prom_Envio_tienda2}\")\n",
        "print(f\"Costo de envío promedio de la Tienda 3: {Prom_Envio_tienda3}\")\n",
        "print(f\"Costo de envío promedio de la Tienda 4: {Prom_Envio_tienda4}\")"
      ],
      "metadata": {
        "id": "S2JeaCykZNy9",
        "colab": {
          "base_uri": "https://localhost:8080/"
        },
        "outputId": "6f961da5-b15b-490d-f8e1-cde64f294d54"
      },
      "execution_count": 37,
      "outputs": [
        {
          "output_type": "stream",
          "name": "stdout",
          "text": [
            "Costo de envío promedio de la Tienda 1: 26018.60958033065\n",
            "Costo de envío promedio de la Tienda 2: 25216.235693090293\n",
            "Costo de envío promedio de la Tienda 3: 24805.680373039424\n",
            "Costo de envío promedio de la Tienda 4: 23459.457167090754\n"
          ]
        }
      ]
    },
    {
      "cell_type": "code",
      "source": [],
      "metadata": {
        "id": "0tSdCie9ZQlt"
      },
      "execution_count": null,
      "outputs": []
    }
  ]
}